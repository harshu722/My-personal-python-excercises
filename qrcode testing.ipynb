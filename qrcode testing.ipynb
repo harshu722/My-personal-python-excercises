{
 "cells": [
  {
   "cell_type": "code",
   "execution_count": 1,
   "id": "cc7a120e",
   "metadata": {},
   "outputs": [
    {
     "name": "stdout",
     "output_type": "stream",
     "text": [
      "Requirement already satisfied: qrcode in c:\\users\\saharsh\\anaconda3\\lib\\site-packages (7.4.2)\n",
      "Requirement already satisfied: colorama in c:\\users\\saharsh\\anaconda3\\lib\\site-packages (from qrcode) (0.4.5)\n",
      "Requirement already satisfied: typing-extensions in c:\\users\\saharsh\\anaconda3\\lib\\site-packages (from qrcode) (4.3.0)\n",
      "Requirement already satisfied: pypng in c:\\users\\saharsh\\anaconda3\\lib\\site-packages (from qrcode) (0.20220715.0)\n",
      "Note: you may need to restart the kernel to use updated packages.\n"
     ]
    }
   ],
   "source": [
    "pip install qrcode"
   ]
  },
  {
   "cell_type": "code",
   "execution_count": 2,
   "id": "d5e27755",
   "metadata": {},
   "outputs": [],
   "source": [
    "import qrcode"
   ]
  },
  {
   "cell_type": "code",
   "execution_count": 3,
   "id": "076a88e4",
   "metadata": {},
   "outputs": [],
   "source": [
    "qr_img = qrcode.make(\"Welcome to javatpoint.\")\n",
    "qr_img.save(\"qrcode.jpg\")"
   ]
  },
  {
   "cell_type": "code",
   "execution_count": 6,
   "id": "c0a7ebeb",
   "metadata": {},
   "outputs": [],
   "source": [
    "# importing the qrcode module  \n",
    "import qrcode  \n",
    "# creating a QRCode object  \n",
    "obj_qr = qrcode.QRCode(  \n",
    "    version = 1,  \n",
    "    error_correction = qrcode.constants.ERROR_CORRECT_L,  \n",
    "    box_size = 10,  \n",
    "    border = 4,  \n",
    ")  \n",
    "# using the add_data() function  \n",
    "obj_qr.add_data(\"https://www.javatpoint.com/python-tutorial\")  \n",
    "# using the make() function  \n",
    "obj_qr.make(fit = True)  \n",
    "# using the make_image() function  \n",
    "qrcode = obj_qr.make_image(fill_color = \"cyan\", back_color = \"black\") \n",
    "qrcode.save(\"qrcode.jpg\")\n"
   ]
  },
  {
   "cell_type": "code",
   "execution_count": null,
   "id": "1cd83ea0",
   "metadata": {},
   "outputs": [],
   "source": []
  }
 ],
 "metadata": {
  "kernelspec": {
   "display_name": "Python 3 (ipykernel)",
   "language": "python",
   "name": "python3"
  },
  "language_info": {
   "codemirror_mode": {
    "name": "ipython",
    "version": 3
   },
   "file_extension": ".py",
   "mimetype": "text/x-python",
   "name": "python",
   "nbconvert_exporter": "python",
   "pygments_lexer": "ipython3",
   "version": "3.9.13"
  }
 },
 "nbformat": 4,
 "nbformat_minor": 5
}
